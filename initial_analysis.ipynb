{
 "cells": [
  {
   "cell_type": "code",
   "execution_count": 1,
   "metadata": {},
   "outputs": [],
   "source": [
    "import pandas as pd\n",
    "import matplotlib.pyplot as plt\n",
    "import seaborn as sns\n",
    "import networkx as nx"
   ]
  },
  {
   "cell_type": "markdown",
   "metadata": {},
   "source": [
    "# SIGINT Analysis in Python\n",
    "\n",
    "*Tags: Inteliigence, NLP, Signals, COMINT, ELINT, Radar*\n",
    "\n",
    "## Contents\n",
    "1. Data Overview and Exploration\n",
    "    - What type of signals did we receive?\n",
    "    - What source and targets are most active?\n",
    "2. Identify Entities\n",
    "    - What entities are communicating\n",
    "    - What is the relationship between entities\n",
    "3. Message Prioritization\n",
    "    - What is the sentiment of each message\n",
    "    - Do any keywords exist in messages\n",
    "    - Do any strange patterns exist\n",
    "4. Concluding Analysis\n"
   ]
  },
  {
   "cell_type": "code",
   "execution_count": 2,
   "metadata": {},
   "outputs": [],
   "source": [
    "df = pd.read_csv('data.csv')"
   ]
  },
  {
   "cell_type": "code",
   "execution_count": 3,
   "metadata": {},
   "outputs": [
    {
     "data": {
      "text/html": [
       "<div>\n",
       "<style scoped>\n",
       "    .dataframe tbody tr th:only-of-type {\n",
       "        vertical-align: middle;\n",
       "    }\n",
       "\n",
       "    .dataframe tbody tr th {\n",
       "        vertical-align: top;\n",
       "    }\n",
       "\n",
       "    .dataframe thead th {\n",
       "        text-align: right;\n",
       "    }\n",
       "</style>\n",
       "<table border=\"1\" class=\"dataframe\">\n",
       "  <thead>\n",
       "    <tr style=\"text-align: right;\">\n",
       "      <th></th>\n",
       "      <th>Signal ID</th>\n",
       "      <th>Signal Type</th>\n",
       "      <th>Frequency</th>\n",
       "      <th>Modulation</th>\n",
       "      <th>Encryption</th>\n",
       "      <th>Source</th>\n",
       "      <th>Destination</th>\n",
       "      <th>Content</th>\n",
       "    </tr>\n",
       "  </thead>\n",
       "  <tbody>\n",
       "    <tr>\n",
       "      <th>0</th>\n",
       "      <td>S1</td>\n",
       "      <td>COMINT</td>\n",
       "      <td>2.4 GHz</td>\n",
       "      <td>FM</td>\n",
       "      <td>RSA</td>\n",
       "      <td>A1</td>\n",
       "      <td>A2</td>\n",
       "      <td>“Alpha Two sitrep?”</td>\n",
       "    </tr>\n",
       "    <tr>\n",
       "      <th>1</th>\n",
       "      <td>S2</td>\n",
       "      <td>ELINT</td>\n",
       "      <td>10 GHz</td>\n",
       "      <td>AM</td>\n",
       "      <td>NaN</td>\n",
       "      <td>R1</td>\n",
       "      <td>-</td>\n",
       "      <td>Radar pulse</td>\n",
       "    </tr>\n",
       "    <tr>\n",
       "      <th>2</th>\n",
       "      <td>S3</td>\n",
       "      <td>COMINT</td>\n",
       "      <td>5 GHz</td>\n",
       "      <td>QPSK</td>\n",
       "      <td>AES</td>\n",
       "      <td>B1</td>\n",
       "      <td>B2</td>\n",
       "      <td>“Bravo One to Bravo Two, we have a target in s...</td>\n",
       "    </tr>\n",
       "    <tr>\n",
       "      <th>3</th>\n",
       "      <td>S4</td>\n",
       "      <td>ELINT</td>\n",
       "      <td>15 GHz</td>\n",
       "      <td>FSK</td>\n",
       "      <td>NaN</td>\n",
       "      <td>R2</td>\n",
       "      <td>-</td>\n",
       "      <td>Radar sweep</td>\n",
       "    </tr>\n",
       "    <tr>\n",
       "      <th>4</th>\n",
       "      <td>S5</td>\n",
       "      <td>COMINT</td>\n",
       "      <td>3 GHz</td>\n",
       "      <td>PSK</td>\n",
       "      <td>RSA</td>\n",
       "      <td>C1</td>\n",
       "      <td>A1</td>\n",
       "      <td>“Charlie One to Alpha One, we are under attack!”</td>\n",
       "    </tr>\n",
       "  </tbody>\n",
       "</table>\n",
       "</div>"
      ],
      "text/plain": [
       "  Signal ID Signal Type Frequency Modulation Encryption Source Destination  \\\n",
       "0        S1      COMINT   2.4 GHz         FM        RSA     A1          A2   \n",
       "1        S2       ELINT    10 GHz         AM        NaN     R1           -   \n",
       "2        S3      COMINT     5 GHz       QPSK        AES     B1          B2   \n",
       "3        S4       ELINT    15 GHz        FSK        NaN     R2           -   \n",
       "4        S5      COMINT     3 GHz        PSK        RSA     C1          A1   \n",
       "\n",
       "                                             Content  \n",
       "0                                “Alpha Two sitrep?”  \n",
       "1                                        Radar pulse  \n",
       "2  “Bravo One to Bravo Two, we have a target in s...  \n",
       "3                                        Radar sweep  \n",
       "4   “Charlie One to Alpha One, we are under attack!”  "
      ]
     },
     "execution_count": 3,
     "metadata": {},
     "output_type": "execute_result"
    }
   ],
   "source": [
    "df.head()"
   ]
  },
  {
   "cell_type": "code",
   "execution_count": 4,
   "metadata": {},
   "outputs": [
    {
     "data": {
      "text/html": [
       "<div>\n",
       "<style scoped>\n",
       "    .dataframe tbody tr th:only-of-type {\n",
       "        vertical-align: middle;\n",
       "    }\n",
       "\n",
       "    .dataframe tbody tr th {\n",
       "        vertical-align: top;\n",
       "    }\n",
       "\n",
       "    .dataframe thead th {\n",
       "        text-align: right;\n",
       "    }\n",
       "</style>\n",
       "<table border=\"1\" class=\"dataframe\">\n",
       "  <thead>\n",
       "    <tr style=\"text-align: right;\">\n",
       "      <th></th>\n",
       "      <th>Signal ID</th>\n",
       "      <th>Signal Type</th>\n",
       "      <th>Frequency</th>\n",
       "      <th>Modulation</th>\n",
       "      <th>Encryption</th>\n",
       "      <th>Source</th>\n",
       "      <th>Destination</th>\n",
       "      <th>Content</th>\n",
       "    </tr>\n",
       "  </thead>\n",
       "  <tbody>\n",
       "    <tr>\n",
       "      <th>count</th>\n",
       "      <td>35</td>\n",
       "      <td>35</td>\n",
       "      <td>35</td>\n",
       "      <td>35</td>\n",
       "      <td>14</td>\n",
       "      <td>35</td>\n",
       "      <td>21</td>\n",
       "      <td>35</td>\n",
       "    </tr>\n",
       "    <tr>\n",
       "      <th>unique</th>\n",
       "      <td>35</td>\n",
       "      <td>2</td>\n",
       "      <td>21</td>\n",
       "      <td>10</td>\n",
       "      <td>5</td>\n",
       "      <td>21</td>\n",
       "      <td>9</td>\n",
       "      <td>28</td>\n",
       "    </tr>\n",
       "    <tr>\n",
       "      <th>top</th>\n",
       "      <td>S1</td>\n",
       "      <td>ELINT</td>\n",
       "      <td>2.4 GHz</td>\n",
       "      <td>QAM</td>\n",
       "      <td>DES</td>\n",
       "      <td>A1</td>\n",
       "      <td>A1</td>\n",
       "      <td>Radar chirp</td>\n",
       "    </tr>\n",
       "    <tr>\n",
       "      <th>freq</th>\n",
       "      <td>1</td>\n",
       "      <td>18</td>\n",
       "      <td>6</td>\n",
       "      <td>7</td>\n",
       "      <td>5</td>\n",
       "      <td>3</td>\n",
       "      <td>5</td>\n",
       "      <td>4</td>\n",
       "    </tr>\n",
       "  </tbody>\n",
       "</table>\n",
       "</div>"
      ],
      "text/plain": [
       "       Signal ID Signal Type Frequency Modulation Encryption Source  \\\n",
       "count         35          35        35         35         14     35   \n",
       "unique        35           2        21         10          5     21   \n",
       "top           S1       ELINT   2.4 GHz        QAM        DES     A1   \n",
       "freq           1          18         6          7          5      3   \n",
       "\n",
       "       Destination      Content  \n",
       "count           21           35  \n",
       "unique           9           28  \n",
       "top             A1  Radar chirp  \n",
       "freq             5            4  "
      ]
     },
     "execution_count": 4,
     "metadata": {},
     "output_type": "execute_result"
    }
   ],
   "source": [
    "df.describe()"
   ]
  },
  {
   "cell_type": "code",
   "execution_count": 5,
   "metadata": {},
   "outputs": [
    {
     "name": "stdout",
     "output_type": "stream",
     "text": [
      "<class 'pandas.core.frame.DataFrame'>\n",
      "RangeIndex: 35 entries, 0 to 34\n",
      "Data columns (total 8 columns):\n",
      " #   Column       Non-Null Count  Dtype \n",
      "---  ------       --------------  ----- \n",
      " 0   Signal ID    35 non-null     object\n",
      " 1   Signal Type  35 non-null     object\n",
      " 2   Frequency    35 non-null     object\n",
      " 3   Modulation   35 non-null     object\n",
      " 4   Encryption   14 non-null     object\n",
      " 5   Source       35 non-null     object\n",
      " 6   Destination  21 non-null     object\n",
      " 7   Content      35 non-null     object\n",
      "dtypes: object(8)\n",
      "memory usage: 2.3+ KB\n"
     ]
    }
   ],
   "source": [
    "df.info()"
   ]
  },
  {
   "cell_type": "markdown",
   "metadata": {},
   "source": [
    "From the above summaries we can see there are a few attributes that have null entries. We know this because we have 35 rows total and some values are less than 35. \n",
    "\n",
    "We can make our data more readable by replacing some nulls with domain friendly language. For example, we can replace null values in the Encryption column with the value \"Unecnrypted\" or \"Unknown\".\n",
    "\n",
    "*Note: that for some data nulls are appropriate. Destination being null is valid is the source is not transmitting a message to anyone but just creating a signal based on an action.*"
   ]
  },
  {
   "cell_type": "code",
   "execution_count": 6,
   "metadata": {},
   "outputs": [],
   "source": [
    "#data prep\n",
    "\n",
    "#replace NaN values in Encryption column with the value 'Unencrypted'\n",
    "df.Encryption = df['Encryption'].fillna(\"Unencrypted\")"
   ]
  },
  {
   "cell_type": "code",
   "execution_count": 7,
   "metadata": {},
   "outputs": [
    {
     "data": {
      "image/png": "[encoded data removed]",
      "text/plain": [
       "<Figure size 800x1200 with 3 Axes>"
      ]
     },
     "metadata": {},
     "output_type": "display_data"
    }
   ],
   "source": [
    "# visualize the signal types and encryption types present in the data.\n",
    "fig, axes = plt.subplots(nrows=3,ncols=1, figsize=(8,12))\n",
    "\n",
    "# get count by Signal Type\n",
    "sns.countplot(data = df, x='Signal Type', ax=axes[0])\n",
    "\n",
    "# get count by Modulation\n",
    "sns.countplot(data = df, x='Modulation', ax=axes[1])\n",
    "\n",
    "# get count by Encryption type\n",
    "sns.countplot(data = df, x='Encryption', ax=axes[2])\n",
    "\n",
    "plt.subplots_adjust(wspace=0.6, hspace=0.6)\n",
    "plt.show()\n"
   ]
  },
  {
   "cell_type": "markdown",
   "metadata": {},
   "source": [
    "Analysis:\n",
    "- About half our signals are COMINT messages and half are ELINT\n",
    "- There is a wide range of modulation types but QAM makes up the majority followed by FM\n",
    "- Most signals are unencrypted while DES is the most common encryption. There is also one MD5 encrypted message.\n",
    "\n",
    "# Entity Identification"
   ]
  },
  {
   "cell_type": "code",
   "execution_count": 8,
   "metadata": {},
   "outputs": [
    {
     "data": {
      "image/png": "[encoded data removed]",
      "text/plain": [
       "<Figure size 1000x400 with 1 Axes>"
      ]
     },
     "metadata": {},
     "output_type": "display_data"
    }
   ],
   "source": [
    "# What sources are most active.\n",
    "fig = plt.figure(figsize=(10,4))\n",
    "\n",
    "axes = sns.countplot(data=df, x='Source', hue='Signal Type')\n",
    "axes.set_title('Count by Source')\n",
    "\n",
    "\n",
    "plt.show()"
   ]
  },
  {
   "cell_type": "markdown",
   "metadata": {},
   "source": [
    "From the plot above we can see that all ELINT signals are from sources that start with the letter R. All our COMINT messages are from sources labeled A, B, C, D, G, and J. \n",
    "\n",
    "This may be useful later. \n",
    "\n",
    "Additionally, there are more messages from source A1, G1, and G2. R7 also emits the most signals from ELINT messages.\n",
    "\n",
    "G1 and G2 have the most messages indicating there may be some importance to G sources. "
   ]
  },
  {
   "cell_type": "code",
   "execution_count": 26,
   "metadata": {},
   "outputs": [],
   "source": [
    "source_count_df = df.groupby(['Signal Type', 'Source'])['Source'].count(). \\\n",
    "    reset_index(name='Signal Count'). \\\n",
    "    sort_values(by=['Signal Type', 'Signal Count'], ascending=False)"
   ]
  },
  {
   "cell_type": "code",
   "execution_count": 44,
   "metadata": {},
   "outputs": [
    {
     "data": {
      "image/png": "[encoded data removed]",
      "text/plain": [
       "<Figure size 1400x400 with 2 Axes>"
      ]
     },
     "metadata": {},
     "output_type": "display_data"
    }
   ],
   "source": [
    "# visualize the sources by activity and signal type.\n",
    "fig, axes = plt.subplots(nrows=1,ncols=2, figsize=(14,4))\n",
    "\n",
    "# get count for COMINT\n",
    "sns.barplot(data = source_count_df[source_count_df['Signal Type']=='COMINT'], x='Source', y='Signal Count',color = 'skyblue', ax=axes[0])\n",
    "\n",
    "# get count for ELINT\n",
    "sns.barplot(data = source_count_df[source_count_df['Signal Type']=='ELINT'], x='Source', y='Signal Count', color='orange', ax=axes[1])\n",
    "\n",
    "plt.subplots_adjust(wspace=0.2, hspace=0.2)\n",
    "\n",
    "axes[0].set_title(\"COMINT Message Count by Source\")\n",
    "axes[1].set_title(\"ELINT Message Count by Source\")\n",
    "\n",
    "plt.show()"
   ]
  },
  {
   "cell_type": "markdown",
   "metadata": {},
   "source": [
    "Let's look at the Target/Destination column next."
   ]
  },
  {
   "cell_type": "code",
   "execution_count": 46,
   "metadata": {},
   "outputs": [
    {
     "data": {
      "text/plain": [
       "array(['A2', '-', 'B2', 'A1', 'C1', nan, 'D1', 'G2', 'J2', 'G1'],\n",
       "      dtype=object)"
      ]
     },
     "execution_count": 46,
     "metadata": {},
     "output_type": "execute_result"
    }
   ],
   "source": [
    "df['Destination'].unique()"
   ]
  },
  {
   "cell_type": "markdown",
   "metadata": {},
   "source": [
    "None of the R* sources send signals to another entity. If we look at our ELINT signals message content, we can see that these rows are all radar noises. This is useful but there is little more to analyze. "
   ]
  },
  {
   "cell_type": "code",
   "execution_count": 52,
   "metadata": {},
   "outputs": [
    {
     "data": {
      "text/plain": [
       "1                          Radar pulse\n",
       "3                          Radar sweep\n",
       "5                          Radar burst\n",
       "7                          Radar chirp\n",
       "9              Radar frequency hopping\n",
       "11                         Radar chirp\n",
       "13                 Radar doppler shift\n",
       "14                         Radar burst\n",
       "15                         Radar chirp\n",
       "16               Radar bistatic signal\n",
       "18    Radar inverse synthetic aperture\n",
       "19             Radar passive detection\n",
       "20              Radar active detection\n",
       "22                  Radar noise signal\n",
       "27                  Radar noise signal\n",
       "28                         Radar chirp\n",
       "33             Radar passive detection\n",
       "34                 Radar doppler shift\n",
       "Name: Content, dtype: object"
      ]
     },
     "execution_count": 52,
     "metadata": {},
     "output_type": "execute_result"
    }
   ],
   "source": [
    "df[df['Signal Type'] == 'ELINT'].Content"
   ]
  },
  {
   "cell_type": "markdown",
   "metadata": {},
   "source": [
    "The rest of this analysis will focus on the COMINT signals only. "
   ]
  },
  {
   "cell_type": "code",
   "execution_count": 53,
   "metadata": {},
   "outputs": [
    {
     "data": {
      "text/html": [
       "<div>\n",
       "<style scoped>\n",
       "    .dataframe tbody tr th:only-of-type {\n",
       "        vertical-align: middle;\n",
       "    }\n",
       "\n",
       "    .dataframe tbody tr th {\n",
       "        vertical-align: top;\n",
       "    }\n",
       "\n",
       "    .dataframe thead th {\n",
       "        text-align: right;\n",
       "    }\n",
       "</style>\n",
       "<table border=\"1\" class=\"dataframe\">\n",
       "  <thead>\n",
       "    <tr style=\"text-align: right;\">\n",
       "      <th></th>\n",
       "      <th>Signal ID</th>\n",
       "      <th>Signal Type</th>\n",
       "      <th>Frequency</th>\n",
       "      <th>Modulation</th>\n",
       "      <th>Encryption</th>\n",
       "      <th>Source</th>\n",
       "      <th>Destination</th>\n",
       "      <th>Content</th>\n",
       "    </tr>\n",
       "  </thead>\n",
       "  <tbody>\n",
       "    <tr>\n",
       "      <th>0</th>\n",
       "      <td>S1</td>\n",
       "      <td>COMINT</td>\n",
       "      <td>2.4 GHz</td>\n",
       "      <td>FM</td>\n",
       "      <td>RSA</td>\n",
       "      <td>A1</td>\n",
       "      <td>A2</td>\n",
       "      <td>“Alpha Two sitrep?”</td>\n",
       "    </tr>\n",
       "    <tr>\n",
       "      <th>2</th>\n",
       "      <td>S3</td>\n",
       "      <td>COMINT</td>\n",
       "      <td>5 GHz</td>\n",
       "      <td>QPSK</td>\n",
       "      <td>AES</td>\n",
       "      <td>B1</td>\n",
       "      <td>B2</td>\n",
       "      <td>“Bravo One to Bravo Two, we have a target in s...</td>\n",
       "    </tr>\n",
       "    <tr>\n",
       "      <th>4</th>\n",
       "      <td>S5</td>\n",
       "      <td>COMINT</td>\n",
       "      <td>3 GHz</td>\n",
       "      <td>PSK</td>\n",
       "      <td>RSA</td>\n",
       "      <td>C1</td>\n",
       "      <td>A1</td>\n",
       "      <td>“Charlie One to Alpha One, we are under attack!”</td>\n",
       "    </tr>\n",
       "    <tr>\n",
       "      <th>6</th>\n",
       "      <td>S7</td>\n",
       "      <td>COMINT</td>\n",
       "      <td>4 GHz</td>\n",
       "      <td>OOK</td>\n",
       "      <td>DES</td>\n",
       "      <td>D1</td>\n",
       "      <td>C1</td>\n",
       "      <td>“Delta One to Charlie One, moving to your posi...</td>\n",
       "    </tr>\n",
       "    <tr>\n",
       "      <th>8</th>\n",
       "      <td>S9</td>\n",
       "      <td>COMINT</td>\n",
       "      <td>6 GHz</td>\n",
       "      <td>QAM</td>\n",
       "      <td>SHA-256</td>\n",
       "      <td>D2</td>\n",
       "      <td>D1</td>\n",
       "      <td>“Delta Two to Delta One, we have secured the a...</td>\n",
       "    </tr>\n",
       "  </tbody>\n",
       "</table>\n",
       "</div>"
      ],
      "text/plain": [
       "  Signal ID Signal Type Frequency Modulation Encryption Source Destination  \\\n",
       "0        S1      COMINT   2.4 GHz         FM        RSA     A1          A2   \n",
       "2        S3      COMINT     5 GHz       QPSK        AES     B1          B2   \n",
       "4        S5      COMINT     3 GHz        PSK        RSA     C1          A1   \n",
       "6        S7      COMINT     4 GHz        OOK        DES     D1          C1   \n",
       "8        S9      COMINT     6 GHz        QAM    SHA-256     D2          D1   \n",
       "\n",
       "                                             Content  \n",
       "0                                “Alpha Two sitrep?”  \n",
       "2  “Bravo One to Bravo Two, we have a target in s...  \n",
       "4   “Charlie One to Alpha One, we are under attack!”  \n",
       "6  “Delta One to Charlie One, moving to your posi...  \n",
       "8  “Delta Two to Delta One, we have secured the a...  "
      ]
     },
     "execution_count": 53,
     "metadata": {},
     "output_type": "execute_result"
    }
   ],
   "source": [
    "#create dataframe without radar noise\n",
    "comint_df = df[df['Signal Type'] == 'COMINT']\n",
    "comint_df.head()"
   ]
  },
  {
   "cell_type": "markdown",
   "metadata": {},
   "source": [
    "Let's look at the relationship between Sources and Destinations for the messages. This is a good use case for a network visual. "
   ]
  },
  {
   "cell_type": "code",
   "execution_count": 54,
   "metadata": {},
   "outputs": [],
   "source": [
    "#plot visual showing relationship between sources and destinations"
   ]
  },
  {
   "cell_type": "code",
   "execution_count": 62,
   "metadata": {},
   "outputs": [
    {
     "data": {
      "text/html": [
       "<div>\n",
       "<style scoped>\n",
       "    .dataframe tbody tr th:only-of-type {\n",
       "        vertical-align: middle;\n",
       "    }\n",
       "\n",
       "    .dataframe tbody tr th {\n",
       "        vertical-align: top;\n",
       "    }\n",
       "\n",
       "    .dataframe thead th {\n",
       "        text-align: right;\n",
       "    }\n",
       "</style>\n",
       "<table border=\"1\" class=\"dataframe\">\n",
       "  <thead>\n",
       "    <tr style=\"text-align: right;\">\n",
       "      <th></th>\n",
       "      <th>Source</th>\n",
       "      <th>Destination</th>\n",
       "    </tr>\n",
       "  </thead>\n",
       "  <tbody>\n",
       "    <tr>\n",
       "      <th>0</th>\n",
       "      <td>A1</td>\n",
       "      <td>A2</td>\n",
       "    </tr>\n",
       "    <tr>\n",
       "      <th>2</th>\n",
       "      <td>B1</td>\n",
       "      <td>B2</td>\n",
       "    </tr>\n",
       "    <tr>\n",
       "      <th>4</th>\n",
       "      <td>C1</td>\n",
       "      <td>A1</td>\n",
       "    </tr>\n",
       "    <tr>\n",
       "      <th>6</th>\n",
       "      <td>D1</td>\n",
       "      <td>C1</td>\n",
       "    </tr>\n",
       "    <tr>\n",
       "      <th>8</th>\n",
       "      <td>D2</td>\n",
       "      <td>D1</td>\n",
       "    </tr>\n",
       "    <tr>\n",
       "      <th>10</th>\n",
       "      <td>A2</td>\n",
       "      <td>A1</td>\n",
       "    </tr>\n",
       "    <tr>\n",
       "      <th>12</th>\n",
       "      <td>G1</td>\n",
       "      <td>G2</td>\n",
       "    </tr>\n",
       "    <tr>\n",
       "      <th>17</th>\n",
       "      <td>J1</td>\n",
       "      <td>J2</td>\n",
       "    </tr>\n",
       "    <tr>\n",
       "      <th>21</th>\n",
       "      <td>C1</td>\n",
       "      <td>A1</td>\n",
       "    </tr>\n",
       "    <tr>\n",
       "      <th>23</th>\n",
       "      <td>G2</td>\n",
       "      <td>G1</td>\n",
       "    </tr>\n",
       "    <tr>\n",
       "      <th>24</th>\n",
       "      <td>G1</td>\n",
       "      <td>G2</td>\n",
       "    </tr>\n",
       "    <tr>\n",
       "      <th>25</th>\n",
       "      <td>G1</td>\n",
       "      <td>G2</td>\n",
       "    </tr>\n",
       "    <tr>\n",
       "      <th>26</th>\n",
       "      <td>G2</td>\n",
       "      <td>G1</td>\n",
       "    </tr>\n",
       "    <tr>\n",
       "      <th>29</th>\n",
       "      <td>G2</td>\n",
       "      <td>A1</td>\n",
       "    </tr>\n",
       "    <tr>\n",
       "      <th>30</th>\n",
       "      <td>A1</td>\n",
       "      <td>G2</td>\n",
       "    </tr>\n",
       "    <tr>\n",
       "      <th>31</th>\n",
       "      <td>A1</td>\n",
       "      <td>A2</td>\n",
       "    </tr>\n",
       "    <tr>\n",
       "      <th>32</th>\n",
       "      <td>A2</td>\n",
       "      <td>A1</td>\n",
       "    </tr>\n",
       "  </tbody>\n",
       "</table>\n",
       "</div>"
      ],
      "text/plain": [
       "   Source Destination\n",
       "0      A1          A2\n",
       "2      B1          B2\n",
       "4      C1          A1\n",
       "6      D1          C1\n",
       "8      D2          D1\n",
       "10     A2          A1\n",
       "12     G1          G2\n",
       "17     J1          J2\n",
       "21     C1          A1\n",
       "23     G2          G1\n",
       "24     G1          G2\n",
       "25     G1          G2\n",
       "26     G2          G1\n",
       "29     G2          A1\n",
       "30     A1          G2\n",
       "31     A1          A2\n",
       "32     A2          A1"
      ]
     },
     "execution_count": 62,
     "metadata": {},
     "output_type": "execute_result"
    }
   ],
   "source": [
    "comint_df[['Source','Destination']]"
   ]
  },
  {
   "cell_type": "code",
   "execution_count": 58,
   "metadata": {},
   "outputs": [
    {
     "ename": "NetworkXError",
     "evalue": "('Columns must match Indices.', '[0, 2, 4, 6, 8, 10, 12, 17, 21, 23, 24, 25, 26, 29, 30, 31, 32] not in columns')",
     "output_type": "error",
     "traceback": [
      "\u001b[1;31m---------------------------------------------------------------------------\u001b[0m",
      "\u001b[1;31mKeyError\u001b[0m                                  Traceback (most recent call last)",
      "File \u001b[1;32mc:\\Users\\grant\\Documents\\Projects\\Sigint Analysis\\sigint-analysis\\venv\\Lib\\site-packages\\networkx\\convert_matrix.py:209\u001b[0m, in \u001b[0;36mfrom_pandas_adjacency\u001b[1;34m(df, create_using)\u001b[0m\n\u001b[0;32m    208\u001b[0m \u001b[39mtry\u001b[39;00m:\n\u001b[1;32m--> 209\u001b[0m     df \u001b[39m=\u001b[39m df[df\u001b[39m.\u001b[39;49mindex]\n\u001b[0;32m    210\u001b[0m \u001b[39mexcept\u001b[39;00m \u001b[39mException\u001b[39;00m \u001b[39mas\u001b[39;00m err:\n",
      "File \u001b[1;32mc:\\Users\\grant\\Documents\\Projects\\Sigint Analysis\\sigint-analysis\\venv\\Lib\\site-packages\\pandas\\core\\frame.py:3899\u001b[0m, in \u001b[0;36mDataFrame.__getitem__\u001b[1;34m(self, key)\u001b[0m\n\u001b[0;32m   3898\u001b[0m         key \u001b[39m=\u001b[39m \u001b[39mlist\u001b[39m(key)\n\u001b[1;32m-> 3899\u001b[0m     indexer \u001b[39m=\u001b[39m \u001b[39mself\u001b[39;49m\u001b[39m.\u001b[39;49mcolumns\u001b[39m.\u001b[39;49m_get_indexer_strict(key, \u001b[39m\"\u001b[39;49m\u001b[39mcolumns\u001b[39;49m\u001b[39m\"\u001b[39;49m)[\u001b[39m1\u001b[39m]\n\u001b[0;32m   3901\u001b[0m \u001b[39m# take() does not accept boolean indexers\u001b[39;00m\n",
      "File \u001b[1;32mc:\\Users\\grant\\Documents\\Projects\\Sigint Analysis\\sigint-analysis\\venv\\Lib\\site-packages\\pandas\\core\\indexes\\base.py:6114\u001b[0m, in \u001b[0;36mIndex._get_indexer_strict\u001b[1;34m(self, key, axis_name)\u001b[0m\n\u001b[0;32m   6112\u001b[0m     keyarr, indexer, new_indexer \u001b[39m=\u001b[39m \u001b[39mself\u001b[39m\u001b[39m.\u001b[39m_reindex_non_unique(keyarr)\n\u001b[1;32m-> 6114\u001b[0m \u001b[39mself\u001b[39;49m\u001b[39m.\u001b[39;49m_raise_if_missing(keyarr, indexer, axis_name)\n\u001b[0;32m   6116\u001b[0m keyarr \u001b[39m=\u001b[39m \u001b[39mself\u001b[39m\u001b[39m.\u001b[39mtake(indexer)\n",
      "File \u001b[1;32mc:\\Users\\grant\\Documents\\Projects\\Sigint Analysis\\sigint-analysis\\venv\\Lib\\site-packages\\pandas\\core\\indexes\\base.py:6175\u001b[0m, in \u001b[0;36mIndex._raise_if_missing\u001b[1;34m(self, key, indexer, axis_name)\u001b[0m\n\u001b[0;32m   6174\u001b[0m         key \u001b[39m=\u001b[39m \u001b[39mlist\u001b[39m(key)\n\u001b[1;32m-> 6175\u001b[0m     \u001b[39mraise\u001b[39;00m \u001b[39mKeyError\u001b[39;00m(\u001b[39mf\u001b[39m\u001b[39m\"\u001b[39m\u001b[39mNone of [\u001b[39m\u001b[39m{\u001b[39;00mkey\u001b[39m}\u001b[39;00m\u001b[39m] are in the [\u001b[39m\u001b[39m{\u001b[39;00maxis_name\u001b[39m}\u001b[39;00m\u001b[39m]\u001b[39m\u001b[39m\"\u001b[39m)\n\u001b[0;32m   6177\u001b[0m not_found \u001b[39m=\u001b[39m \u001b[39mlist\u001b[39m(ensure_index(key)[missing_mask\u001b[39m.\u001b[39mnonzero()[\u001b[39m0\u001b[39m]]\u001b[39m.\u001b[39munique())\n",
      "\u001b[1;31mKeyError\u001b[0m: \"None of [Index([0, 2, 4, 6, 8, 10, 12, 17, 21, 23, 24, 25, 26, 29, 30, 31, 32], dtype='int64')] are in the [columns]\"",
      "\nThe above exception was the direct cause of the following exception:\n",
      "\u001b[1;31mNetworkXError\u001b[0m                             Traceback (most recent call last)",
      "\u001b[1;32mc:\\Users\\grant\\Documents\\Projects\\Sigint Analysis\\sigint-analysis\\initial_analysis.ipynb Cell 24\u001b[0m line \u001b[0;36m1\n\u001b[1;32m----> <a href='vscode-notebook-cell:/c%3A/Users/grant/Documents/Projects/Sigint%20Analysis/sigint-analysis/initial_analysis.ipynb#X35sZmlsZQ%3D%3D?line=0'>1</a>\u001b[0m G \u001b[39m=\u001b[39m nx\u001b[39m.\u001b[39;49mfrom_pandas_adjacency(comint_df[[\u001b[39m'\u001b[39;49m\u001b[39mSource\u001b[39;49m\u001b[39m'\u001b[39;49m,\u001b[39m'\u001b[39;49m\u001b[39mDestination\u001b[39;49m\u001b[39m'\u001b[39;49m]])\n\u001b[0;32m      <a href='vscode-notebook-cell:/c%3A/Users/grant/Documents/Projects/Sigint%20Analysis/sigint-analysis/initial_analysis.ipynb#X35sZmlsZQ%3D%3D?line=1'>2</a>\u001b[0m G\u001b[39m.\u001b[39mname \u001b[39m=\u001b[39m \u001b[39m\"\u001b[39m\u001b[39mGraph from pandas adjacency matrix\u001b[39m\u001b[39m\"\u001b[39m\n\u001b[0;32m      <a href='vscode-notebook-cell:/c%3A/Users/grant/Documents/Projects/Sigint%20Analysis/sigint-analysis/initial_analysis.ipynb#X35sZmlsZQ%3D%3D?line=2'>3</a>\u001b[0m \u001b[39mprint\u001b[39m(G)\n",
      "File \u001b[1;32mc:\\Users\\grant\\Documents\\Projects\\Sigint Analysis\\sigint-analysis\\venv\\Lib\\site-packages\\networkx\\utils\\backends.py:412\u001b[0m, in \u001b[0;36m_dispatch.__call__\u001b[1;34m(self, backend, *args, **kwargs)\u001b[0m\n\u001b[0;32m    409\u001b[0m \u001b[39mdef\u001b[39;00m \u001b[39m__call__\u001b[39m(\u001b[39mself\u001b[39m, \u001b[39m/\u001b[39m, \u001b[39m*\u001b[39margs, backend\u001b[39m=\u001b[39m\u001b[39mNone\u001b[39;00m, \u001b[39m*\u001b[39m\u001b[39m*\u001b[39mkwargs):\n\u001b[0;32m    410\u001b[0m     \u001b[39mif\u001b[39;00m \u001b[39mnot\u001b[39;00m backends:\n\u001b[0;32m    411\u001b[0m         \u001b[39m# Fast path if no backends are installed\u001b[39;00m\n\u001b[1;32m--> 412\u001b[0m         \u001b[39mreturn\u001b[39;00m \u001b[39mself\u001b[39;49m\u001b[39m.\u001b[39;49morig_func(\u001b[39m*\u001b[39;49margs, \u001b[39m*\u001b[39;49m\u001b[39m*\u001b[39;49mkwargs)\n\u001b[0;32m    414\u001b[0m     \u001b[39m# Use `backend_name` in this function instead of `backend`\u001b[39;00m\n\u001b[0;32m    415\u001b[0m     backend_name \u001b[39m=\u001b[39m backend\n",
      "File \u001b[1;32mc:\\Users\\grant\\Documents\\Projects\\Sigint Analysis\\sigint-analysis\\venv\\Lib\\site-packages\\networkx\\convert_matrix.py:213\u001b[0m, in \u001b[0;36mfrom_pandas_adjacency\u001b[1;34m(df, create_using)\u001b[0m\n\u001b[0;32m    211\u001b[0m     missing \u001b[39m=\u001b[39m \u001b[39mlist\u001b[39m(\u001b[39mset\u001b[39m(df\u001b[39m.\u001b[39mindex)\u001b[39m.\u001b[39mdifference(\u001b[39mset\u001b[39m(df\u001b[39m.\u001b[39mcolumns)))\n\u001b[0;32m    212\u001b[0m     msg \u001b[39m=\u001b[39m \u001b[39mf\u001b[39m\u001b[39m\"\u001b[39m\u001b[39m{\u001b[39;00mmissing\u001b[39m}\u001b[39;00m\u001b[39m not in columns\u001b[39m\u001b[39m\"\u001b[39m\n\u001b[1;32m--> 213\u001b[0m     \u001b[39mraise\u001b[39;00m nx\u001b[39m.\u001b[39mNetworkXError(\u001b[39m\"\u001b[39m\u001b[39mColumns must match Indices.\u001b[39m\u001b[39m\"\u001b[39m, msg) \u001b[39mfrom\u001b[39;00m \u001b[39merr\u001b[39;00m\n\u001b[0;32m    215\u001b[0m A \u001b[39m=\u001b[39m df\u001b[39m.\u001b[39mvalues\n\u001b[0;32m    216\u001b[0m G \u001b[39m=\u001b[39m from_numpy_array(A, create_using\u001b[39m=\u001b[39mcreate_using)\n",
      "\u001b[1;31mNetworkXError\u001b[0m: ('Columns must match Indices.', '[0, 2, 4, 6, 8, 10, 12, 17, 21, 23, 24, 25, 26, 29, 30, 31, 32] not in columns')"
     ]
    }
   ],
   "source": [
    "G = nx.from_pandas_adjacency(comint_df[['Source','Destination']])\n",
    "G.name = \"Graph from pandas adjacency matrix\"\n",
    "print(G)"
   ]
  }
 ],
 "metadata": {
  "kernelspec": {
   "display_name": "env",
   "language": "python",
   "name": "python3"
  },
  "language_info": {
   "codemirror_mode": {
    "name": "ipython",
    "version": 3
   },
   "file_extension": ".py",
   "mimetype": "text/x-python",
   "name": "python",
   "nbconvert_exporter": "python",
   "pygments_lexer": "ipython3",
   "version": "3.11.3"
  }
 },
 "nbformat": 4,
 "nbformat_minor": 2
}
