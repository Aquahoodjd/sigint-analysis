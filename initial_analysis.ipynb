{
 "cells": [
  {
   "cell_type": "code",
   "execution_count": 1,
   "metadata": {},
   "outputs": [],
   "source": [
    "import pandas as pd\n",
    "import matplotlib.pyplot as plt\n",
    "import seaborn as sns"
   ]
  },
  {
   "cell_type": "markdown",
   "metadata": {},
   "source": [
    "# SIGINT Analysis in Python\n",
    "\n",
    "*Tags: Inteliigence, NLP, Signals, COMINT, ELINT, Radar*\n",
    "\n",
    "## Contents\n",
    "1. Data Overview and Exploration\n",
    "    - What type of signals did we receive?\n",
    "    - What source and targets are most active?\n",
    "2. Identify Entities\n",
    "    - What entities are communicating\n",
    "    - What is the relationship between entities\n",
    "3. Message Prioritization\n",
    "    - What is the sentiment of each message\n",
    "    - Do any keywords exist in messages\n",
    "    - Do any strange patterns exist\n",
    "4. Concluding Analysis\n"
   ]
  },
  {
   "cell_type": "code",
   "execution_count": 2,
   "metadata": {},
   "outputs": [],
   "source": [
    "df = pd.read_csv('data.csv')"
   ]
  },
  {
   "cell_type": "code",
   "execution_count": 3,
   "metadata": {},
   "outputs": [
    {
     "data": {
      "text/html": [
       "<div>\n",
       "<style scoped>\n",
       "    .dataframe tbody tr th:only-of-type {\n",
       "        vertical-align: middle;\n",
       "    }\n",
       "\n",
       "    .dataframe tbody tr th {\n",
       "        vertical-align: top;\n",
       "    }\n",
       "\n",
       "    .dataframe thead th {\n",
       "        text-align: right;\n",
       "    }\n",
       "</style>\n",
       "<table border=\"1\" class=\"dataframe\">\n",
       "  <thead>\n",
       "    <tr style=\"text-align: right;\">\n",
       "      <th></th>\n",
       "      <th>Signal ID</th>\n",
       "      <th>Signal Type</th>\n",
       "      <th>Frequency</th>\n",
       "      <th>Modulation</th>\n",
       "      <th>Encryption</th>\n",
       "      <th>Source</th>\n",
       "      <th>Destination</th>\n",
       "      <th>Content</th>\n",
       "    </tr>\n",
       "  </thead>\n",
       "  <tbody>\n",
       "    <tr>\n",
       "      <th>0</th>\n",
       "      <td>S1</td>\n",
       "      <td>COMINT</td>\n",
       "      <td>2.4 GHz</td>\n",
       "      <td>FM</td>\n",
       "      <td>RSA</td>\n",
       "      <td>A1</td>\n",
       "      <td>A2</td>\n",
       "      <td>“Alpha Two sitrep?”</td>\n",
       "    </tr>\n",
       "    <tr>\n",
       "      <th>1</th>\n",
       "      <td>S2</td>\n",
       "      <td>ELINT</td>\n",
       "      <td>10 GHz</td>\n",
       "      <td>AM</td>\n",
       "      <td>NaN</td>\n",
       "      <td>R1</td>\n",
       "      <td>-</td>\n",
       "      <td>Radar pulse</td>\n",
       "    </tr>\n",
       "    <tr>\n",
       "      <th>2</th>\n",
       "      <td>S3</td>\n",
       "      <td>COMINT</td>\n",
       "      <td>5 GHz</td>\n",
       "      <td>QPSK</td>\n",
       "      <td>AES</td>\n",
       "      <td>B1</td>\n",
       "      <td>B2</td>\n",
       "      <td>“Bravo One to Bravo Two, we have a target in s...</td>\n",
       "    </tr>\n",
       "    <tr>\n",
       "      <th>3</th>\n",
       "      <td>S4</td>\n",
       "      <td>ELINT</td>\n",
       "      <td>15 GHz</td>\n",
       "      <td>FSK</td>\n",
       "      <td>NaN</td>\n",
       "      <td>R2</td>\n",
       "      <td>-</td>\n",
       "      <td>Radar sweep</td>\n",
       "    </tr>\n",
       "    <tr>\n",
       "      <th>4</th>\n",
       "      <td>S5</td>\n",
       "      <td>COMINT</td>\n",
       "      <td>3 GHz</td>\n",
       "      <td>PSK</td>\n",
       "      <td>RSA</td>\n",
       "      <td>C1</td>\n",
       "      <td>A1</td>\n",
       "      <td>“Charlie One to Alpha One, we are under attack!”</td>\n",
       "    </tr>\n",
       "  </tbody>\n",
       "</table>\n",
       "</div>"
      ],
      "text/plain": [
       "  Signal ID Signal Type Frequency Modulation Encryption Source Destination  \\\n",
       "0        S1      COMINT   2.4 GHz         FM        RSA     A1          A2   \n",
       "1        S2       ELINT    10 GHz         AM        NaN     R1           -   \n",
       "2        S3      COMINT     5 GHz       QPSK        AES     B1          B2   \n",
       "3        S4       ELINT    15 GHz        FSK        NaN     R2           -   \n",
       "4        S5      COMINT     3 GHz        PSK        RSA     C1          A1   \n",
       "\n",
       "                                             Content  \n",
       "0                                “Alpha Two sitrep?”  \n",
       "1                                        Radar pulse  \n",
       "2  “Bravo One to Bravo Two, we have a target in s...  \n",
       "3                                        Radar sweep  \n",
       "4   “Charlie One to Alpha One, we are under attack!”  "
      ]
     },
     "execution_count": 3,
     "metadata": {},
     "output_type": "execute_result"
    }
   ],
   "source": [
    "df.head()"
   ]
  },
  {
   "cell_type": "code",
   "execution_count": 17,
   "metadata": {},
   "outputs": [
    {
     "data": {
      "text/html": [
       "<div>\n",
       "<style scoped>\n",
       "    .dataframe tbody tr th:only-of-type {\n",
       "        vertical-align: middle;\n",
       "    }\n",
       "\n",
       "    .dataframe tbody tr th {\n",
       "        vertical-align: top;\n",
       "    }\n",
       "\n",
       "    .dataframe thead th {\n",
       "        text-align: right;\n",
       "    }\n",
       "</style>\n",
       "<table border=\"1\" class=\"dataframe\">\n",
       "  <thead>\n",
       "    <tr style=\"text-align: right;\">\n",
       "      <th></th>\n",
       "      <th>Signal ID</th>\n",
       "      <th>Signal Type</th>\n",
       "      <th>Frequency</th>\n",
       "      <th>Modulation</th>\n",
       "      <th>Encryption</th>\n",
       "      <th>Source</th>\n",
       "      <th>Destination</th>\n",
       "      <th>Content</th>\n",
       "    </tr>\n",
       "  </thead>\n",
       "  <tbody>\n",
       "    <tr>\n",
       "      <th>count</th>\n",
       "      <td>35</td>\n",
       "      <td>35</td>\n",
       "      <td>35</td>\n",
       "      <td>35</td>\n",
       "      <td>35</td>\n",
       "      <td>35</td>\n",
       "      <td>21</td>\n",
       "      <td>35</td>\n",
       "    </tr>\n",
       "    <tr>\n",
       "      <th>unique</th>\n",
       "      <td>35</td>\n",
       "      <td>2</td>\n",
       "      <td>21</td>\n",
       "      <td>10</td>\n",
       "      <td>6</td>\n",
       "      <td>21</td>\n",
       "      <td>9</td>\n",
       "      <td>28</td>\n",
       "    </tr>\n",
       "    <tr>\n",
       "      <th>top</th>\n",
       "      <td>S1</td>\n",
       "      <td>ELINT</td>\n",
       "      <td>2.4 GHz</td>\n",
       "      <td>QAM</td>\n",
       "      <td>Unencrypted</td>\n",
       "      <td>A1</td>\n",
       "      <td>A1</td>\n",
       "      <td>Radar chirp</td>\n",
       "    </tr>\n",
       "    <tr>\n",
       "      <th>freq</th>\n",
       "      <td>1</td>\n",
       "      <td>18</td>\n",
       "      <td>6</td>\n",
       "      <td>7</td>\n",
       "      <td>21</td>\n",
       "      <td>3</td>\n",
       "      <td>5</td>\n",
       "      <td>4</td>\n",
       "    </tr>\n",
       "  </tbody>\n",
       "</table>\n",
       "</div>"
      ],
      "text/plain": [
       "       Signal ID Signal Type Frequency Modulation   Encryption Source  \\\n",
       "count         35          35        35         35           35     35   \n",
       "unique        35           2        21         10            6     21   \n",
       "top           S1       ELINT   2.4 GHz        QAM  Unencrypted     A1   \n",
       "freq           1          18         6          7           21      3   \n",
       "\n",
       "       Destination      Content  \n",
       "count           21           35  \n",
       "unique           9           28  \n",
       "top             A1  Radar chirp  \n",
       "freq             5            4  "
      ]
     },
     "execution_count": 17,
     "metadata": {},
     "output_type": "execute_result"
    }
   ],
   "source": [
    "df.describe()"
   ]
  },
  {
   "cell_type": "code",
   "execution_count": 19,
   "metadata": {},
   "outputs": [
    {
     "name": "stdout",
     "output_type": "stream",
     "text": [
      "<class 'pandas.core.frame.DataFrame'>\n",
      "RangeIndex: 35 entries, 0 to 34\n",
      "Data columns (total 8 columns):\n",
      " #   Column       Non-Null Count  Dtype \n",
      "---  ------       --------------  ----- \n",
      " 0   Signal ID    35 non-null     object\n",
      " 1   Signal Type  35 non-null     object\n",
      " 2   Frequency    35 non-null     object\n",
      " 3   Modulation   35 non-null     object\n",
      " 4   Encryption   35 non-null     object\n",
      " 5   Source       35 non-null     object\n",
      " 6   Destination  21 non-null     object\n",
      " 7   Content      35 non-null     object\n",
      "dtypes: object(8)\n",
      "memory usage: 2.3+ KB\n"
     ]
    }
   ],
   "source": [
    "df.info()"
   ]
  },
  {
   "cell_type": "code",
   "execution_count": 13,
   "metadata": {},
   "outputs": [],
   "source": [
    "#data prep\n",
    "\n",
    "#replace NaN values in Encryption column with the value 'Unencrypted'\n",
    "df.Encryption = df['Encryption'].fillna(\"Unencrypted\")"
   ]
  },
  {
   "cell_type": "code",
   "execution_count": 12,
   "metadata": {},
   "outputs": [
    {
     "data": {
      "image/png": "[encoded data removed]",
      "text/plain": [
       "<Figure size 800x1200 with 3 Axes>"
      ]
     },
     "metadata": {},
     "output_type": "display_data"
    }
   ],
   "source": [
    "# visualize the signal types and encryption types present in the data.\n",
    "fig, axes = plt.subplots(nrows=3,ncols=1, figsize=(8,12))\n",
    "\n",
    "# get count by Signal Type\n",
    "sns.countplot(data = df, x='Signal Type', ax=axes[0])\n",
    "\n",
    "# get count by Modulation\n",
    "sns.countplot(data = df, x='Modulation', ax=axes[1])\n",
    "\n",
    "# get count by Encryption type\n",
    "sns.countplot(data = df, x='Encryption', ax=axes[2])\n",
    "\n",
    "plt.subplots_adjust(wspace=0.6, hspace=0.6)\n",
    "plt.show()\n"
   ]
  },
  {
   "cell_type": "markdown",
   "metadata": {},
   "source": [
    "Analysis:\n",
    "- About half our signals are COMINT messages and half are ELINT\n",
    "- There is a wide range of modulation types but QAM makes up the majority followed by FM\n",
    "- DES encryption is most common followed by RSA. There is also one MD5 encrypted message."
   ]
  },
  {
   "cell_type": "code",
   "execution_count": null,
   "metadata": {},
   "outputs": [],
   "source": []
  }
 ],
 "metadata": {
  "kernelspec": {
   "display_name": "env",
   "language": "python",
   "name": "python3"
  },
  "language_info": {
   "codemirror_mode": {
    "name": "ipython",
    "version": 3
   },
   "file_extension": ".py",
   "mimetype": "text/x-python",
   "name": "python",
   "nbconvert_exporter": "python",
   "pygments_lexer": "ipython3",
   "version": "3.11.3"
  }
 },
 "nbformat": 4,
 "nbformat_minor": 2
}
