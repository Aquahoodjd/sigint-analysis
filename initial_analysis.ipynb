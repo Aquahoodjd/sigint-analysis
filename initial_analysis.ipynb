{
 "cells": [
  {
   "cell_type": "code",
   "execution_count": 3,
   "metadata": {},
   "outputs": [],
   "source": [
    "import pandas as pd\n",
    "import matplotlib.pyplot as plt\n",
    "import seaborn as sns\n",
    "import networkx as nx"
   ]
  },
  {
   "cell_type": "markdown",
   "metadata": {},
   "source": [
    "# SIGINT Analysis in Python\n",
    "\n",
    "*Tags: Inteliigence, NLP, Signals, COMINT, ELINT, Radar*\n",
    "\n",
    "## Contents\n",
    "1. Data Overview and Exploration\n",
    "    - What type of signals did we receive?\n",
    "    - What source and targets are most active?\n",
    "2. Identify Entities\n",
    "    - What entities are communicating\n",
    "    - What is the relationship between entities\n",
    "3. Message Prioritization\n",
    "    - What is the sentiment of each message\n",
    "    - Do any keywords exist in messages\n",
    "    - Do any strange patterns exist\n",
    "4. Concluding Analysis\n"
   ]
  },
  {
   "cell_type": "code",
   "execution_count": 4,
   "metadata": {},
   "outputs": [],
   "source": [
    "df = pd.read_csv('data.csv')"
   ]
  },
  {
   "cell_type": "code",
   "execution_count": 5,
   "metadata": {},
   "outputs": [
    {
     "data": {
      "text/html": [
       "<div>\n",
       "<style scoped>\n",
       "    .dataframe tbody tr th:only-of-type {\n",
       "        vertical-align: middle;\n",
       "    }\n",
       "\n",
       "    .dataframe tbody tr th {\n",
       "        vertical-align: top;\n",
       "    }\n",
       "\n",
       "    .dataframe thead th {\n",
       "        text-align: right;\n",
       "    }\n",
       "</style>\n",
       "<table border=\"1\" class=\"dataframe\">\n",
       "  <thead>\n",
       "    <tr style=\"text-align: right;\">\n",
       "      <th></th>\n",
       "      <th>Signal ID</th>\n",
       "      <th>Signal Type</th>\n",
       "      <th>Frequency</th>\n",
       "      <th>Modulation</th>\n",
       "      <th>Encryption</th>\n",
       "      <th>Source</th>\n",
       "      <th>Destination</th>\n",
       "      <th>Content</th>\n",
       "    </tr>\n",
       "  </thead>\n",
       "  <tbody>\n",
       "    <tr>\n",
       "      <th>0</th>\n",
       "      <td>S1</td>\n",
       "      <td>COMINT</td>\n",
       "      <td>2.4 GHz</td>\n",
       "      <td>FM</td>\n",
       "      <td>RSA</td>\n",
       "      <td>A1</td>\n",
       "      <td>A2</td>\n",
       "      <td>“Alpha Two sitrep?”</td>\n",
       "    </tr>\n",
       "    <tr>\n",
       "      <th>1</th>\n",
       "      <td>S2</td>\n",
       "      <td>ELINT</td>\n",
       "      <td>10 GHz</td>\n",
       "      <td>AM</td>\n",
       "      <td>NaN</td>\n",
       "      <td>R1</td>\n",
       "      <td>-</td>\n",
       "      <td>Radar pulse</td>\n",
       "    </tr>\n",
       "    <tr>\n",
       "      <th>2</th>\n",
       "      <td>S3</td>\n",
       "      <td>COMINT</td>\n",
       "      <td>5 GHz</td>\n",
       "      <td>QPSK</td>\n",
       "      <td>AES</td>\n",
       "      <td>B1</td>\n",
       "      <td>B2</td>\n",
       "      <td>“Bravo One to Bravo Two, we have a target in s...</td>\n",
       "    </tr>\n",
       "    <tr>\n",
       "      <th>3</th>\n",
       "      <td>S4</td>\n",
       "      <td>ELINT</td>\n",
       "      <td>15 GHz</td>\n",
       "      <td>FSK</td>\n",
       "      <td>NaN</td>\n",
       "      <td>R2</td>\n",
       "      <td>-</td>\n",
       "      <td>Radar sweep</td>\n",
       "    </tr>\n",
       "    <tr>\n",
       "      <th>4</th>\n",
       "      <td>S5</td>\n",
       "      <td>COMINT</td>\n",
       "      <td>3 GHz</td>\n",
       "      <td>PSK</td>\n",
       "      <td>RSA</td>\n",
       "      <td>C1</td>\n",
       "      <td>A1</td>\n",
       "      <td>“Charlie One to Alpha One, we are under attack!”</td>\n",
       "    </tr>\n",
       "  </tbody>\n",
       "</table>\n",
       "</div>"
      ],
      "text/plain": [
       "  Signal ID Signal Type Frequency Modulation Encryption Source Destination  \\\n",
       "0        S1      COMINT   2.4 GHz         FM        RSA     A1          A2   \n",
       "1        S2       ELINT    10 GHz         AM        NaN     R1           -   \n",
       "2        S3      COMINT     5 GHz       QPSK        AES     B1          B2   \n",
       "3        S4       ELINT    15 GHz        FSK        NaN     R2           -   \n",
       "4        S5      COMINT     3 GHz        PSK        RSA     C1          A1   \n",
       "\n",
       "                                             Content  \n",
       "0                                “Alpha Two sitrep?”  \n",
       "1                                        Radar pulse  \n",
       "2  “Bravo One to Bravo Two, we have a target in s...  \n",
       "3                                        Radar sweep  \n",
       "4   “Charlie One to Alpha One, we are under attack!”  "
      ]
     },
     "execution_count": 5,
     "metadata": {},
     "output_type": "execute_result"
    }
   ],
   "source": [
    "df.head()"
   ]
  },
  {
   "cell_type": "code",
   "execution_count": 6,
   "metadata": {},
   "outputs": [
    {
     "data": {
      "text/html": [
       "<div>\n",
       "<style scoped>\n",
       "    .dataframe tbody tr th:only-of-type {\n",
       "        vertical-align: middle;\n",
       "    }\n",
       "\n",
       "    .dataframe tbody tr th {\n",
       "        vertical-align: top;\n",
       "    }\n",
       "\n",
       "    .dataframe thead th {\n",
       "        text-align: right;\n",
       "    }\n",
       "</style>\n",
       "<table border=\"1\" class=\"dataframe\">\n",
       "  <thead>\n",
       "    <tr style=\"text-align: right;\">\n",
       "      <th></th>\n",
       "      <th>Signal ID</th>\n",
       "      <th>Signal Type</th>\n",
       "      <th>Frequency</th>\n",
       "      <th>Modulation</th>\n",
       "      <th>Encryption</th>\n",
       "      <th>Source</th>\n",
       "      <th>Destination</th>\n",
       "      <th>Content</th>\n",
       "    </tr>\n",
       "  </thead>\n",
       "  <tbody>\n",
       "    <tr>\n",
       "      <th>count</th>\n",
       "      <td>35</td>\n",
       "      <td>35</td>\n",
       "      <td>35</td>\n",
       "      <td>35</td>\n",
       "      <td>14</td>\n",
       "      <td>35</td>\n",
       "      <td>22</td>\n",
       "      <td>35</td>\n",
       "    </tr>\n",
       "    <tr>\n",
       "      <th>unique</th>\n",
       "      <td>35</td>\n",
       "      <td>2</td>\n",
       "      <td>21</td>\n",
       "      <td>10</td>\n",
       "      <td>5</td>\n",
       "      <td>21</td>\n",
       "      <td>9</td>\n",
       "      <td>29</td>\n",
       "    </tr>\n",
       "    <tr>\n",
       "      <th>top</th>\n",
       "      <td>S1</td>\n",
       "      <td>COMINT</td>\n",
       "      <td>2.4 GHz</td>\n",
       "      <td>QAM</td>\n",
       "      <td>DES</td>\n",
       "      <td>A1</td>\n",
       "      <td>A1</td>\n",
       "      <td>Radar chirp</td>\n",
       "    </tr>\n",
       "    <tr>\n",
       "      <th>freq</th>\n",
       "      <td>1</td>\n",
       "      <td>18</td>\n",
       "      <td>6</td>\n",
       "      <td>8</td>\n",
       "      <td>5</td>\n",
       "      <td>3</td>\n",
       "      <td>6</td>\n",
       "      <td>3</td>\n",
       "    </tr>\n",
       "  </tbody>\n",
       "</table>\n",
       "</div>"
      ],
      "text/plain": [
       "       Signal ID Signal Type Frequency Modulation Encryption Source  \\\n",
       "count         35          35        35         35         14     35   \n",
       "unique        35           2        21         10          5     21   \n",
       "top           S1      COMINT   2.4 GHz        QAM        DES     A1   \n",
       "freq           1          18         6          8          5      3   \n",
       "\n",
       "       Destination      Content  \n",
       "count           22           35  \n",
       "unique           9           29  \n",
       "top             A1  Radar chirp  \n",
       "freq             6            3  "
      ]
     },
     "execution_count": 6,
     "metadata": {},
     "output_type": "execute_result"
    }
   ],
   "source": [
    "df.describe()"
   ]
  },
  {
   "cell_type": "code",
   "execution_count": 7,
   "metadata": {},
   "outputs": [
    {
     "name": "stdout",
     "output_type": "stream",
     "text": [
      "<class 'pandas.core.frame.DataFrame'>\n",
      "RangeIndex: 35 entries, 0 to 34\n",
      "Data columns (total 8 columns):\n",
      " #   Column       Non-Null Count  Dtype \n",
      "---  ------       --------------  ----- \n",
      " 0   Signal ID    35 non-null     object\n",
      " 1   Signal Type  35 non-null     object\n",
      " 2   Frequency    35 non-null     object\n",
      " 3   Modulation   35 non-null     object\n",
      " 4   Encryption   14 non-null     object\n",
      " 5   Source       35 non-null     object\n",
      " 6   Destination  22 non-null     object\n",
      " 7   Content      35 non-null     object\n",
      "dtypes: object(8)\n",
      "memory usage: 2.3+ KB\n"
     ]
    }
   ],
   "source": [
    "df.info()"
   ]
  },
  {
   "cell_type": "markdown",
   "metadata": {},
   "source": [
    "From the above summaries we can see there are a few attributes that have null entries. We know this because we have 35 rows total and some values are less than 35. \n",
    "\n",
    "We can make our data more readable by replacing some nulls with domain friendly language. For example, we can replace null values in the Encryption column with the value \"Unecnrypted\" or \"Unknown\".\n",
    "\n",
    "*Note: that for some data nulls are appropriate. Destination being null is valid is the source is not transmitting a message to anyone but just creating a signal based on an action.*"
   ]
  },
  {
   "cell_type": "code",
   "execution_count": 8,
   "metadata": {},
   "outputs": [],
   "source": [
    "#data prep\n",
    "\n",
    "#replace NaN values in Encryption column with the value 'Unencrypted'\n",
    "df.Encryption = df['Encryption'].fillna(\"Unencrypted\")"
   ]
  },
  {
   "cell_type": "code",
   "execution_count": 9,
   "metadata": {},
   "outputs": [
    {
     "data": {
      "image/png": "[encoded data removed]",
      "text/plain": [
       "<Figure size 800x1200 with 3 Axes>"
      ]
     },
     "metadata": {},
     "output_type": "display_data"
    }
   ],
   "source": [
    "# visualize the signal types and encryption types present in the data.\n",
    "fig, axes = plt.subplots(nrows=3,ncols=1, figsize=(8,12))\n",
    "\n",
    "# get count by Signal Type\n",
    "sns.countplot(data = df, x='Signal Type', ax=axes[0])\n",
    "\n",
    "# get count by Modulation\n",
    "sns.countplot(data = df, x='Modulation', ax=axes[1])\n",
    "\n",
    "# get count by Encryption type\n",
    "sns.countplot(data = df, x='Encryption', ax=axes[2])\n",
    "\n",
    "plt.subplots_adjust(wspace=0.6, hspace=0.6)\n",
    "plt.show()\n"
   ]
  },
  {
   "cell_type": "markdown",
   "metadata": {},
   "source": [
    "Analysis:\n",
    "- About half our signals are COMINT messages and half are ELINT\n",
    "- There is a wide range of modulation types but QAM makes up the majority followed by FM\n",
    "- Most signals are unencrypted while DES is the most common encryption. There is also one MD5 encrypted message.\n",
    "\n",
    "# Entity Identification"
   ]
  },
  {
   "cell_type": "code",
   "execution_count": 10,
   "metadata": {},
   "outputs": [
    {
     "data": {
      "image/png": "[encoded data removed]",
      "text/plain": [
       "<Figure size 1000x400 with 1 Axes>"
      ]
     },
     "metadata": {},
     "output_type": "display_data"
    }
   ],
   "source": [
    "# What sources are most active.\n",
    "fig = plt.figure(figsize=(10,4))\n",
    "\n",
    "axes = sns.countplot(data=df, x='Source', hue='Signal Type')\n",
    "axes.set_title('Count by Source')\n",
    "\n",
    "\n",
    "plt.show()"
   ]
  },
  {
   "cell_type": "markdown",
   "metadata": {},
   "source": [
    "From the plot above we can see that all ELINT signals are from sources that start with the letter R. All our COMINT messages are from sources labeled A, B, C, D, G, and J. \n",
    "\n",
    "This may be useful later. \n",
    "\n",
    "Additionally, there are more messages from source A1, G1, and G2. R7 also emits the most signals from ELINT messages.\n",
    "\n",
    "G1 and G2 have the most messages indicating there may be some importance to G sources. "
   ]
  },
  {
   "cell_type": "code",
   "execution_count": 11,
   "metadata": {},
   "outputs": [],
   "source": [
    "source_count_df = df.groupby(['Signal Type', 'Source'])['Source'].count(). \\\n",
    "    reset_index(name='Signal Count'). \\\n",
    "    sort_values(by=['Signal Type', 'Signal Count'], ascending=False)"
   ]
  },
  {
   "cell_type": "code",
   "execution_count": 12,
   "metadata": {},
   "outputs": [
    {
     "data": {
      "image/png": "[encoded data removed]",
      "text/plain": [
       "<Figure size 1400x400 with 2 Axes>"
      ]
     },
     "metadata": {},
     "output_type": "display_data"
    }
   ],
   "source": [
    "# visualize the sources by activity and signal type.\n",
    "fig, axes = plt.subplots(nrows=1,ncols=2, figsize=(14,4))\n",
    "\n",
    "# get count for COMINT\n",
    "sns.barplot(data = source_count_df[source_count_df['Signal Type']=='COMINT'], x='Source', y='Signal Count',color = 'skyblue', ax=axes[0])\n",
    "\n",
    "# get count for ELINT\n",
    "sns.barplot(data = source_count_df[source_count_df['Signal Type']=='ELINT'], x='Source', y='Signal Count', color='orange', ax=axes[1])\n",
    "\n",
    "plt.subplots_adjust(wspace=0.2, hspace=0.2)\n",
    "\n",
    "axes[0].set_title(\"COMINT Message Count by Source\")\n",
    "axes[1].set_title(\"ELINT Message Count by Source\")\n",
    "\n",
    "plt.show()"
   ]
  },
  {
   "cell_type": "markdown",
   "metadata": {},
   "source": [
    "Let's look at the Target/Destination column next."
   ]
  },
  {
   "cell_type": "code",
   "execution_count": 13,
   "metadata": {},
   "outputs": [
    {
     "data": {
      "text/plain": [
       "array(['A2', '-', 'B2', 'A1', 'C1', 'D1', nan, 'G2', 'J2', 'G1'],\n",
       "      dtype=object)"
      ]
     },
     "execution_count": 13,
     "metadata": {},
     "output_type": "execute_result"
    }
   ],
   "source": [
    "df['Destination'].unique()"
   ]
  },
  {
   "cell_type": "markdown",
   "metadata": {},
   "source": [
    "None of the R* sources send signals to another entity. If we look at our ELINT signals message content, we can see that these rows are all radar noises. This is useful but there is little more to analyze. "
   ]
  },
  {
   "cell_type": "code",
   "execution_count": 14,
   "metadata": {},
   "outputs": [
    {
     "data": {
      "text/plain": [
       "1                          Radar pulse\n",
       "3                          Radar sweep\n",
       "5                          Radar burst\n",
       "9              Radar frequency hopping\n",
       "11                         Radar chirp\n",
       "13                 Radar doppler shift\n",
       "14                         Radar burst\n",
       "15                         Radar chirp\n",
       "16               Radar bistatic signal\n",
       "18    Radar inverse synthetic aperture\n",
       "19             Radar passive detection\n",
       "20              Radar active detection\n",
       "22                  Radar noise signal\n",
       "27                  Radar noise signal\n",
       "28                         Radar chirp\n",
       "33             Radar passive detection\n",
       "34                 Radar doppler shift\n",
       "Name: Content, dtype: object"
      ]
     },
     "execution_count": 14,
     "metadata": {},
     "output_type": "execute_result"
    }
   ],
   "source": [
    "df[df['Signal Type'] == 'ELINT'].Content"
   ]
  },
  {
   "cell_type": "markdown",
   "metadata": {},
   "source": [
    "The rest of this analysis will focus on the COMINT signals only. "
   ]
  },
  {
   "cell_type": "code",
   "execution_count": 15,
   "metadata": {},
   "outputs": [
    {
     "data": {
      "text/html": [
       "<div>\n",
       "<style scoped>\n",
       "    .dataframe tbody tr th:only-of-type {\n",
       "        vertical-align: middle;\n",
       "    }\n",
       "\n",
       "    .dataframe tbody tr th {\n",
       "        vertical-align: top;\n",
       "    }\n",
       "\n",
       "    .dataframe thead th {\n",
       "        text-align: right;\n",
       "    }\n",
       "</style>\n",
       "<table border=\"1\" class=\"dataframe\">\n",
       "  <thead>\n",
       "    <tr style=\"text-align: right;\">\n",
       "      <th></th>\n",
       "      <th>Signal ID</th>\n",
       "      <th>Signal Type</th>\n",
       "      <th>Frequency</th>\n",
       "      <th>Modulation</th>\n",
       "      <th>Encryption</th>\n",
       "      <th>Source</th>\n",
       "      <th>Destination</th>\n",
       "      <th>Content</th>\n",
       "    </tr>\n",
       "  </thead>\n",
       "  <tbody>\n",
       "    <tr>\n",
       "      <th>0</th>\n",
       "      <td>S1</td>\n",
       "      <td>COMINT</td>\n",
       "      <td>2.4 GHz</td>\n",
       "      <td>FM</td>\n",
       "      <td>RSA</td>\n",
       "      <td>A1</td>\n",
       "      <td>A2</td>\n",
       "      <td>“Alpha Two sitrep?”</td>\n",
       "    </tr>\n",
       "    <tr>\n",
       "      <th>2</th>\n",
       "      <td>S3</td>\n",
       "      <td>COMINT</td>\n",
       "      <td>5 GHz</td>\n",
       "      <td>QPSK</td>\n",
       "      <td>AES</td>\n",
       "      <td>B1</td>\n",
       "      <td>B2</td>\n",
       "      <td>“Bravo One to Bravo Two, we have a target in s...</td>\n",
       "    </tr>\n",
       "    <tr>\n",
       "      <th>4</th>\n",
       "      <td>S5</td>\n",
       "      <td>COMINT</td>\n",
       "      <td>3 GHz</td>\n",
       "      <td>PSK</td>\n",
       "      <td>RSA</td>\n",
       "      <td>C1</td>\n",
       "      <td>A1</td>\n",
       "      <td>“Charlie One to Alpha One, we are under attack!”</td>\n",
       "    </tr>\n",
       "    <tr>\n",
       "      <th>6</th>\n",
       "      <td>S7</td>\n",
       "      <td>COMINT</td>\n",
       "      <td>4 GHz</td>\n",
       "      <td>OOK</td>\n",
       "      <td>DES</td>\n",
       "      <td>D1</td>\n",
       "      <td>C1</td>\n",
       "      <td>“Delta One to Charlie One, moving to your posi...</td>\n",
       "    </tr>\n",
       "    <tr>\n",
       "      <th>7</th>\n",
       "      <td>S8</td>\n",
       "      <td>COMINT</td>\n",
       "      <td>4 GHz</td>\n",
       "      <td>QAM</td>\n",
       "      <td>Unencrypted</td>\n",
       "      <td>D1</td>\n",
       "      <td>A1</td>\n",
       "      <td>Alpha One, Delta One is moving to support Char...</td>\n",
       "    </tr>\n",
       "  </tbody>\n",
       "</table>\n",
       "</div>"
      ],
      "text/plain": [
       "  Signal ID Signal Type Frequency Modulation   Encryption Source Destination  \\\n",
       "0        S1      COMINT   2.4 GHz         FM          RSA     A1          A2   \n",
       "2        S3      COMINT     5 GHz       QPSK          AES     B1          B2   \n",
       "4        S5      COMINT     3 GHz        PSK          RSA     C1          A1   \n",
       "6        S7      COMINT     4 GHz        OOK          DES     D1          C1   \n",
       "7        S8      COMINT     4 GHz        QAM  Unencrypted     D1          A1   \n",
       "\n",
       "                                             Content  \n",
       "0                                “Alpha Two sitrep?”  \n",
       "2  “Bravo One to Bravo Two, we have a target in s...  \n",
       "4   “Charlie One to Alpha One, we are under attack!”  \n",
       "6  “Delta One to Charlie One, moving to your posi...  \n",
       "7  Alpha One, Delta One is moving to support Char...  "
      ]
     },
     "execution_count": 15,
     "metadata": {},
     "output_type": "execute_result"
    }
   ],
   "source": [
    "#create dataframe without radar noise\n",
    "comint_df = df[df['Signal Type'] == 'COMINT']\n",
    "comint_df.head()"
   ]
  },
  {
   "cell_type": "markdown",
   "metadata": {},
   "source": [
    "Let's look at the relationship between Sources and Destinations for the messages. This is a good use case for a network visual. "
   ]
  },
  {
   "cell_type": "code",
   "execution_count": 16,
   "metadata": {},
   "outputs": [
    {
     "data": {
      "image/png": "[encoded data removed]",
      "text/plain": [
       "<Figure size 900x900 with 1 Axes>"
      ]
     },
     "metadata": {},
     "output_type": "display_data"
    }
   ],
   "source": [
    "#plot visual showing relationship between sources and destinations\n",
    "plt.figure(figsize=(9,9))\n",
    "\n",
    "#create graph object\n",
    "graph = nx.from_pandas_edgelist(comint_df,\n",
    "                                 'Source',\n",
    "                                   'Destination',\n",
    "                                   create_using=nx.MultiDiGraph)\n",
    "\n",
    "\n",
    "#node sizes (a destination node will be larger if it received more signals)\n",
    "degree = dict(graph.degree)\n",
    "node_size = [v * 250 for v in degree.values()]\n",
    "\n",
    "# Create a layout for the nodes \n",
    "pos = nx.spring_layout(graph, k=1.0)  # Change 'k' to space out the nodes more\n",
    "pos = nx.shell_layout(graph)\n",
    "pos = nx.circular_layout(graph)\n",
    "\n",
    "\n",
    "\n",
    "#plot graph\n",
    "nx.draw(G=graph, pos=pos,with_labels=True,\n",
    "         node_color='skyblue', node_size=node_size,\n",
    "           edge_color='k', arrowsize=15, arrowstyle='-|>')\n",
    "\n",
    "plt.title(\"Source to Target Network\")\n",
    "plt.show()"
   ]
  },
  {
   "cell_type": "markdown",
   "metadata": {},
   "source": [
    "Most of the traffic converges on A1. When we look at the actual message content we can see that this entity is called \"Alpha One\". Due to the high number of in-bound messages we can speculate that Alpha One is a command unit. \n",
    "\n",
    "Another point to note is J (Juliet) units and B (Bravo) units do not communicate with the larger org and may be independent of the larger unit comprised of Alpha, Golf, Delta, and Charlie units. \n",
    "\n",
    "Golf Two received alot of communications and communicated back with Golf One. It may be worth deeper analysis. "
   ]
  },
  {
   "cell_type": "code",
   "execution_count": 17,
   "metadata": {},
   "outputs": [
    {
     "name": "stderr",
     "output_type": "stream",
     "text": [
      "C:\\Users\\grant\\AppData\\Local\\Temp\\ipykernel_2492\\172734353.py:1: SettingWithCopyWarning: \n",
      "A value is trying to be set on a copy of a slice from a DataFrame.\n",
      "Try using .loc[row_indexer,col_indexer] = value instead\n",
      "\n",
      "See the caveats in the documentation: https://pandas.pydata.org/pandas-docs/stable/user_guide/indexing.html#returning-a-view-versus-a-copy\n",
      "  comint_df.loc[:, 'Interaction'] = comint_df['Source'] + comint_df['Destination']\n"
     ]
    }
   ],
   "source": [
    "comint_df.loc[:, 'Interaction'] = comint_df['Source'] + comint_df['Destination']"
   ]
  },
  {
   "cell_type": "code",
   "execution_count": 18,
   "metadata": {},
   "outputs": [
    {
     "data": {
      "image/png": "[encoded data removed]",
      "text/plain": [
       "<Figure size 640x480 with 1 Axes>"
      ]
     },
     "metadata": {},
     "output_type": "display_data"
    }
   ],
   "source": [
    "comint_df.Interaction.value_counts().plot(kind='bar')\n",
    "plt.show()"
   ]
  },
  {
   "cell_type": "code",
   "execution_count": 19,
   "metadata": {},
   "outputs": [
    {
     "data": {
      "text/html": [
       "<div>\n",
       "<style scoped>\n",
       "    .dataframe tbody tr th:only-of-type {\n",
       "        vertical-align: middle;\n",
       "    }\n",
       "\n",
       "    .dataframe tbody tr th {\n",
       "        vertical-align: top;\n",
       "    }\n",
       "\n",
       "    .dataframe thead th {\n",
       "        text-align: right;\n",
       "    }\n",
       "</style>\n",
       "<table border=\"1\" class=\"dataframe\">\n",
       "  <thead>\n",
       "    <tr style=\"text-align: right;\">\n",
       "      <th></th>\n",
       "      <th>Source</th>\n",
       "      <th>Destination</th>\n",
       "      <th>Content</th>\n",
       "    </tr>\n",
       "  </thead>\n",
       "  <tbody>\n",
       "    <tr>\n",
       "      <th>12</th>\n",
       "      <td>G1</td>\n",
       "      <td>G2</td>\n",
       "      <td>“Golf One to Golf Two, we have intercepted a hostile signal.”</td>\n",
       "    </tr>\n",
       "    <tr>\n",
       "      <th>23</th>\n",
       "      <td>G2</td>\n",
       "      <td>G1</td>\n",
       "      <td>\"Roger, send for interpretation.\"</td>\n",
       "    </tr>\n",
       "    <tr>\n",
       "      <th>24</th>\n",
       "      <td>G1</td>\n",
       "      <td>G2</td>\n",
       "      <td>\"Transmitting now over digital. Acknowledge when received.\"</td>\n",
       "    </tr>\n",
       "    <tr>\n",
       "      <th>25</th>\n",
       "      <td>G1</td>\n",
       "      <td>G2</td>\n",
       "      <td>\"2ddb41e689a4c09debd805f1b5c3\"</td>\n",
       "    </tr>\n",
       "    <tr>\n",
       "      <th>26</th>\n",
       "      <td>G2</td>\n",
       "      <td>G1</td>\n",
       "      <td>\"Acknowledge Golf One. Message received. Golf two out.\"</td>\n",
       "    </tr>\n",
       "    <tr>\n",
       "      <th>29</th>\n",
       "      <td>G2</td>\n",
       "      <td>A1</td>\n",
       "      <td>\"Alpha One, be advised hostile communications indicate a major offensive is planned in your AO. Advise you increase local security checks and advi...</td>\n",
       "    </tr>\n",
       "    <tr>\n",
       "      <th>30</th>\n",
       "      <td>A1</td>\n",
       "      <td>G2</td>\n",
       "      <td>\"Understood Alpha One. Recalling Alpha Two to base.\"</td>\n",
       "    </tr>\n",
       "  </tbody>\n",
       "</table>\n",
       "</div>"
      ],
      "text/plain": [
       "   Source Destination  \\\n",
       "12     G1          G2   \n",
       "23     G2          G1   \n",
       "24     G1          G2   \n",
       "25     G1          G2   \n",
       "26     G2          G1   \n",
       "29     G2          A1   \n",
       "30     A1          G2   \n",
       "\n",
       "                                                                                                                                                  Content  \n",
       "12                                                                                          “Golf One to Golf Two, we have intercepted a hostile signal.”  \n",
       "23                                                                                                                      \"Roger, send for interpretation.\"  \n",
       "24                                                                                            \"Transmitting now over digital. Acknowledge when received.\"  \n",
       "25                                                                                                                         \"2ddb41e689a4c09debd805f1b5c3\"  \n",
       "26                                                                                                \"Acknowledge Golf One. Message received. Golf two out.\"  \n",
       "29  \"Alpha One, be advised hostile communications indicate a major offensive is planned in your AO. Advise you increase local security checks and advi...  \n",
       "30                                                                                                   \"Understood Alpha One. Recalling Alpha Two to base.\"  "
      ]
     },
     "execution_count": 19,
     "metadata": {},
     "output_type": "execute_result"
    }
   ],
   "source": [
    "pd.set_option('display.max_colwidth', 150)\n",
    "\n",
    "comint_df[(comint_df.Source == 'G2') | (comint_df.Destination == 'G2')][['Source', 'Destination', 'Content']]"
   ]
  },
  {
   "cell_type": "markdown",
   "metadata": {},
   "source": [
    "Analysis:\n",
    "- Golf one and two appear to be a SIGINT unit that is listening for hostile signals \n",
    "    - Golf One may be the technical unit actually intercepting and listening for signals\n",
    "    - Golf Two appears to be the analysis unit that extracts valuable intel from the interepted signal\n",
    "- After intercepting a hostile signal, Golf One sends the signal to Golf Two for analysis\n",
    "- Golf Two decodes the message and relays the intel back to command at Alpha One.\n",
    "- The encrypted hostile message is included in S25.\n",
    "\n",
    "Now we know which units are listening. This could be useful for counterintelligence operations.\n",
    "\n",
    "# Message Prioritization\n",
    "\n",
    "Currently the messages are given in the order we intercepted them. While this is useful and provides some chronological flow, without timestamps it's hard to know the exact order of events. Let's assume these messages are in chornological order. \n",
    "\n",
    "What we really care about is what messages are important. When a set of signals comes in, it would be useful to have them classified by importance and then put those messages at the top of our queue for immediate analysis. \n",
    "\n",
    "We can try to accomplish this with natural language processing using sentiment and keyword recognition. "
   ]
  },
  {
   "cell_type": "markdown",
   "metadata": {},
   "source": []
  },
  {
   "cell_type": "code",
   "execution_count": 20,
   "metadata": {},
   "outputs": [
    {
     "name": "stderr",
     "output_type": "stream",
     "text": [
      "[nltk_data] Downloading package names to\n",
      "[nltk_data]     C:\\Users\\grant\\AppData\\Roaming\\nltk_data...\n",
      "[nltk_data]   Package names is already up-to-date!\n",
      "[nltk_data] Downloading package stopwords to\n",
      "[nltk_data]     C:\\Users\\grant\\AppData\\Roaming\\nltk_data...\n",
      "[nltk_data]   Package stopwords is already up-to-date!\n",
      "[nltk_data] Downloading package state_union to\n",
      "[nltk_data]     C:\\Users\\grant\\AppData\\Roaming\\nltk_data...\n",
      "[nltk_data]   Package state_union is already up-to-date!\n",
      "[nltk_data] Downloading package twitter_samples to\n",
      "[nltk_data]     C:\\Users\\grant\\AppData\\Roaming\\nltk_data...\n",
      "[nltk_data]   Package twitter_samples is already up-to-date!\n",
      "[nltk_data] Downloading package movie_reviews to\n",
      "[nltk_data]     C:\\Users\\grant\\AppData\\Roaming\\nltk_data...\n",
      "[nltk_data]   Package movie_reviews is already up-to-date!\n",
      "[nltk_data] Downloading package averaged_perceptron_tagger to\n",
      "[nltk_data]     C:\\Users\\grant\\AppData\\Roaming\\nltk_data...\n",
      "[nltk_data]   Package averaged_perceptron_tagger is already up-to-\n",
      "[nltk_data]       date!\n",
      "[nltk_data] Downloading package vader_lexicon to\n",
      "[nltk_data]     C:\\Users\\grant\\AppData\\Roaming\\nltk_data...\n",
      "[nltk_data]   Package vader_lexicon is already up-to-date!\n",
      "[nltk_data] Downloading package punkt to\n",
      "[nltk_data]     C:\\Users\\grant\\AppData\\Roaming\\nltk_data...\n",
      "[nltk_data]   Package punkt is already up-to-date!\n"
     ]
    },
    {
     "data": {
      "text/plain": [
       "True"
      ]
     },
     "execution_count": 20,
     "metadata": {},
     "output_type": "execute_result"
    }
   ],
   "source": [
    "from nltk.sentiment import SentimentIntensityAnalyzer \n",
    "import nltk\n",
    "\n",
    "nltk.download([\n",
    "     \"names\",\n",
    "     \"stopwords\",\n",
    "     \"state_union\",\n",
    "     \"twitter_samples\",\n",
    "     \"movie_reviews\",\n",
    "     \"averaged_perceptron_tagger\",\n",
    "     \"vader_lexicon\",\n",
    "     \"punkt\",\n",
    "])"
   ]
  },
  {
   "cell_type": "code",
   "execution_count": 21,
   "metadata": {},
   "outputs": [],
   "source": [
    "sentiment_analyzer = SentimentIntensityAnalyzer()"
   ]
  },
  {
   "cell_type": "code",
   "execution_count": 36,
   "metadata": {},
   "outputs": [
    {
     "name": "stdout",
     "output_type": "stream",
     "text": [
      "“Alpha Two sitrep?” ---- 0.0\n",
      "“Bravo One to Bravo Two, we have a target in sight.” ---- 0.0\n",
      "“Charlie One to Alpha One, we are under attack!” ---- 0.0\n",
      "“Delta One to Charlie One, moving to your position. ETA 5 minutes.” ---- 0.0\n",
      "Alpha One, Delta One is moving to support Charlie one. ---- 0.4019\n",
      "“Delta Two to Delta One, we have secured the area North of Charile One.” ---- 0.4019\n",
      "“Alpha one, alpha two is proceeding to checkpoint 1.” ---- 0.0\n",
      "“Golf One to Golf Two, we have intercepted a hostile signal.” ---- -0.3818\n",
      "“Juliet One to Juliet Two, radio check?” ---- 0.0\n",
      "“Charlie One to Alpha One area now secure. Significant hostile casualties and damage to local facilities. Requesting medical and engineering support to our position.” ---- 0.0258\n",
      "\"Roger, send for interpretation.\" ---- 0.0\n",
      "\"Transmitting now over digital. Acknowledge when received.\" ---- 0.0\n",
      "\"2ddb41e689a4c09debd805f1b5c3\" ---- 0.0\n",
      "\"Acknowledge Golf One. Message received. Golf two out.\" ---- 0.0\n",
      "\"Alpha One, be advised hostile communications indicate a major offensive is planned in your AO. Advise you increase local security checks and advise non-essential personal to shelter in place.\" ---- -0.2263\n",
      "\"Understood Alpha One. Recalling Alpha Two to base.\" ---- 0.0\n",
      "\"Alpha Two, return to base immediately to assist with security efforts.\" ---- 0.34\n",
      "\"Acknowledge Alpha One. Alpha Two returning to base.\" ---- 0.0\n"
     ]
    }
   ],
   "source": [
    "for message in comint_df.Content:\n",
    "    print(f'{message} ---- {sentiment_analyzer.polarity_scores(message)[\"compound\"]}')"
   ]
  },
  {
   "cell_type": "markdown",
   "metadata": {},
   "source": [
    "Using the pre-built sentiment analyzer we don't get much useful information. The longer messages are given a rating other than neutral but this isn't super helpful. \n",
    "\n",
    "One thing we could do is scrape other more specific datasources such as 911 transcripts and build our own corpus that would do a better job of identifying message sentiment. \n",
    "\n",
    "However for simplicity sake, we can try keyword identification which will give us more control over what is flagged. "
   ]
  },
  {
   "cell_type": "code",
   "execution_count": 62,
   "metadata": {},
   "outputs": [],
   "source": [
    "# create keyword list\n",
    "keywords = [\n",
    "    \"hostile\",\n",
    "    \"attack\",\n",
    "    \"help\",\n",
    "    \"emergency\",\n",
    "    \"enemy\",\n",
    "    \"KIA\",\n",
    "    \"urgent\",\n",
    "    \"priority\",\n",
    "    \"wounded\",\n",
    "    \"injury\",\n",
    "    \"injuries\"\n",
    "    \"intelligence\"\n",
    "    \"signal\",\n",
    "    \"offensive\",\n",
    "    \"medical\",\n",
    "    \"security\"\n",
    "]"
   ]
  },
  {
   "cell_type": "code",
   "execution_count": 63,
   "metadata": {},
   "outputs": [
    {
     "name": "stdout",
     "output_type": "stream",
     "text": [
      "Keyword(s) found in sentence: '“Charlie One to Alpha One, we are under attack!”'\n",
      "Keyword(s) found in sentence: '“Golf One to Golf Two, we have intercepted a hostile signal.”'\n",
      "Keyword(s) found in sentence: '“Charlie One to Alpha One area now secure. Significant hostile casualties and damage to local facilities. Requesting medical and engineering support to our position.”'\n",
      "Keyword(s) found in sentence: '\"Alpha One, be advised hostile communications indicate a major offensive is planned in your AO. Advise you increase local security checks and advise non-essential personal to shelter in place.\"'\n",
      "Keyword(s) found in sentence: '\"Alpha Two, return to base immediately to assist with security efforts.\"'\n"
     ]
    }
   ],
   "source": [
    "keyword_analysis_counts = dict.fromkeys(comint_df['Signal ID'], 0)\n",
    "\n",
    "for index ,signal in comint_df.iterrows():\n",
    "    tokens = nltk.word_tokenize(signal['Content'])\n",
    "    if any(keyword in tokens for keyword in keywords):\n",
    "        print(f\"Keyword(s) found in sentence: '{signal['Content']}'\")\n",
    "        for keyword in keywords:\n",
    "            keyword_analysis_counts[signal['Signal ID']] += tokens.count(keyword)\n"
   ]
  },
  {
   "cell_type": "code",
   "execution_count": 80,
   "metadata": {},
   "outputs": [],
   "source": [
    "comint_df = comint_df.assign(Priority = keyword_analysis_counts.values())"
   ]
  },
  {
   "cell_type": "code",
   "execution_count": 89,
   "metadata": {},
   "outputs": [
    {
     "data": {
      "text/html": [
       "<div>\n",
       "<style scoped>\n",
       "    .dataframe tbody tr th:only-of-type {\n",
       "        vertical-align: middle;\n",
       "    }\n",
       "\n",
       "    .dataframe tbody tr th {\n",
       "        vertical-align: top;\n",
       "    }\n",
       "\n",
       "    .dataframe thead th {\n",
       "        text-align: right;\n",
       "    }\n",
       "</style>\n",
       "<table border=\"1\" class=\"dataframe\">\n",
       "  <thead>\n",
       "    <tr style=\"text-align: right;\">\n",
       "      <th></th>\n",
       "      <th>Signal ID</th>\n",
       "      <th>Content</th>\n",
       "      <th>Priority</th>\n",
       "    </tr>\n",
       "  </thead>\n",
       "  <tbody>\n",
       "    <tr>\n",
       "      <th>29</th>\n",
       "      <td>S30</td>\n",
       "      <td>\"Alpha One, be advised hostile communications indicate a major offensive is planned in your AO. Advise you increase local security checks and advi...</td>\n",
       "      <td>3</td>\n",
       "    </tr>\n",
       "    <tr>\n",
       "      <th>21</th>\n",
       "      <td>S22</td>\n",
       "      <td>“Charlie One to Alpha One area now secure. Significant hostile casualties and damage to local facilities. Requesting medical and engineering suppo...</td>\n",
       "      <td>2</td>\n",
       "    </tr>\n",
       "    <tr>\n",
       "      <th>4</th>\n",
       "      <td>S5</td>\n",
       "      <td>“Charlie One to Alpha One, we are under attack!”</td>\n",
       "      <td>1</td>\n",
       "    </tr>\n",
       "    <tr>\n",
       "      <th>12</th>\n",
       "      <td>S13</td>\n",
       "      <td>“Golf One to Golf Two, we have intercepted a hostile signal.”</td>\n",
       "      <td>1</td>\n",
       "    </tr>\n",
       "    <tr>\n",
       "      <th>31</th>\n",
       "      <td>S32</td>\n",
       "      <td>\"Alpha Two, return to base immediately to assist with security efforts.\"</td>\n",
       "      <td>1</td>\n",
       "    </tr>\n",
       "  </tbody>\n",
       "</table>\n",
       "</div>"
      ],
      "text/plain": [
       "   Signal ID  \\\n",
       "29       S30   \n",
       "21       S22   \n",
       "4         S5   \n",
       "12       S13   \n",
       "31       S32   \n",
       "\n",
       "                                                                                                                                                  Content  \\\n",
       "29  \"Alpha One, be advised hostile communications indicate a major offensive is planned in your AO. Advise you increase local security checks and advi...   \n",
       "21  “Charlie One to Alpha One area now secure. Significant hostile casualties and damage to local facilities. Requesting medical and engineering suppo...   \n",
       "4                                                                                                        “Charlie One to Alpha One, we are under attack!”   \n",
       "12                                                                                          “Golf One to Golf Two, we have intercepted a hostile signal.”   \n",
       "31                                                                               \"Alpha Two, return to base immediately to assist with security efforts.\"   \n",
       "\n",
       "    Priority  \n",
       "29         3  \n",
       "21         2  \n",
       "4          1  \n",
       "12         1  \n",
       "31         1  "
      ]
     },
     "execution_count": 89,
     "metadata": {},
     "output_type": "execute_result"
    }
   ],
   "source": [
    "comint_df[comint_df.Priority > 0].sort_values('Priority', ascending=False)[['Signal ID', 'Content', 'Priority']]"
   ]
  },
  {
   "cell_type": "code",
   "execution_count": 91,
   "metadata": {},
   "outputs": [
    {
     "data": {
      "text/html": [
       "<div>\n",
       "<style scoped>\n",
       "    .dataframe tbody tr th:only-of-type {\n",
       "        vertical-align: middle;\n",
       "    }\n",
       "\n",
       "    .dataframe tbody tr th {\n",
       "        vertical-align: top;\n",
       "    }\n",
       "\n",
       "    .dataframe thead th {\n",
       "        text-align: right;\n",
       "    }\n",
       "</style>\n",
       "<table border=\"1\" class=\"dataframe\">\n",
       "  <thead>\n",
       "    <tr style=\"text-align: right;\">\n",
       "      <th></th>\n",
       "      <th>Signal ID</th>\n",
       "      <th>Content</th>\n",
       "    </tr>\n",
       "  </thead>\n",
       "  <tbody>\n",
       "    <tr>\n",
       "      <th>0</th>\n",
       "      <td>S1</td>\n",
       "      <td>“Alpha Two sitrep?”</td>\n",
       "    </tr>\n",
       "    <tr>\n",
       "      <th>2</th>\n",
       "      <td>S3</td>\n",
       "      <td>“Bravo One to Bravo Two, we have a target in sight.”</td>\n",
       "    </tr>\n",
       "    <tr>\n",
       "      <th>6</th>\n",
       "      <td>S7</td>\n",
       "      <td>“Delta One to Charlie One, moving to your position. ETA 5 minutes.”</td>\n",
       "    </tr>\n",
       "    <tr>\n",
       "      <th>7</th>\n",
       "      <td>S8</td>\n",
       "      <td>Alpha One, Delta One is moving to support Charlie one.</td>\n",
       "    </tr>\n",
       "    <tr>\n",
       "      <th>8</th>\n",
       "      <td>S9</td>\n",
       "      <td>“Delta Two to Delta One, we have secured the area North of Charile One.”</td>\n",
       "    </tr>\n",
       "    <tr>\n",
       "      <th>10</th>\n",
       "      <td>S11</td>\n",
       "      <td>“Alpha one, alpha two is proceeding to checkpoint 1.”</td>\n",
       "    </tr>\n",
       "    <tr>\n",
       "      <th>17</th>\n",
       "      <td>S18</td>\n",
       "      <td>“Juliet One to Juliet Two, radio check?”</td>\n",
       "    </tr>\n",
       "    <tr>\n",
       "      <th>23</th>\n",
       "      <td>S24</td>\n",
       "      <td>\"Roger, send for interpretation.\"</td>\n",
       "    </tr>\n",
       "    <tr>\n",
       "      <th>24</th>\n",
       "      <td>S25</td>\n",
       "      <td>\"Transmitting now over digital. Acknowledge when received.\"</td>\n",
       "    </tr>\n",
       "    <tr>\n",
       "      <th>25</th>\n",
       "      <td>S26</td>\n",
       "      <td>\"2ddb41e689a4c09debd805f1b5c3\"</td>\n",
       "    </tr>\n",
       "    <tr>\n",
       "      <th>26</th>\n",
       "      <td>S27</td>\n",
       "      <td>\"Acknowledge Golf One. Message received. Golf two out.\"</td>\n",
       "    </tr>\n",
       "    <tr>\n",
       "      <th>30</th>\n",
       "      <td>S31</td>\n",
       "      <td>\"Understood Alpha One. Recalling Alpha Two to base.\"</td>\n",
       "    </tr>\n",
       "    <tr>\n",
       "      <th>32</th>\n",
       "      <td>S33</td>\n",
       "      <td>\"Acknowledge Alpha One. Alpha Two returning to base.\"</td>\n",
       "    </tr>\n",
       "  </tbody>\n",
       "</table>\n",
       "</div>"
      ],
      "text/plain": [
       "   Signal ID  \\\n",
       "0         S1   \n",
       "2         S3   \n",
       "6         S7   \n",
       "7         S8   \n",
       "8         S9   \n",
       "10       S11   \n",
       "17       S18   \n",
       "23       S24   \n",
       "24       S25   \n",
       "25       S26   \n",
       "26       S27   \n",
       "30       S31   \n",
       "32       S33   \n",
       "\n",
       "                                                                     Content  \n",
       "0                                                        “Alpha Two sitrep?”  \n",
       "2                       “Bravo One to Bravo Two, we have a target in sight.”  \n",
       "6        “Delta One to Charlie One, moving to your position. ETA 5 minutes.”  \n",
       "7                     Alpha One, Delta One is moving to support Charlie one.  \n",
       "8   “Delta Two to Delta One, we have secured the area North of Charile One.”  \n",
       "10                     “Alpha one, alpha two is proceeding to checkpoint 1.”  \n",
       "17                                  “Juliet One to Juliet Two, radio check?”  \n",
       "23                                         \"Roger, send for interpretation.\"  \n",
       "24               \"Transmitting now over digital. Acknowledge when received.\"  \n",
       "25                                            \"2ddb41e689a4c09debd805f1b5c3\"  \n",
       "26                   \"Acknowledge Golf One. Message received. Golf two out.\"  \n",
       "30                      \"Understood Alpha One. Recalling Alpha Two to base.\"  \n",
       "32                     \"Acknowledge Alpha One. Alpha Two returning to base.\"  "
      ]
     },
     "execution_count": 91,
     "metadata": {},
     "output_type": "execute_result"
    }
   ],
   "source": [
    "comint_df[comint_df.Priority == 0].sort_values('Priority', ascending=False)[['Signal ID', 'Content']]"
   ]
  },
  {
   "cell_type": "code",
   "execution_count": null,
   "metadata": {},
   "outputs": [],
   "source": []
  }
 ],
 "metadata": {
  "kernelspec": {
   "display_name": "env",
   "language": "python",
   "name": "python3"
  },
  "language_info": {
   "codemirror_mode": {
    "name": "ipython",
    "version": 3
   },
   "file_extension": ".py",
   "mimetype": "text/x-python",
   "name": "python",
   "nbconvert_exporter": "python",
   "pygments_lexer": "ipython3",
   "version": "3.11.3"
  }
 },
 "nbformat": 4,
 "nbformat_minor": 2
}
